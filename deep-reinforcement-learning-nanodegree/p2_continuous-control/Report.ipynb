{
 "cells": [
  {
   "cell_type": "markdown",
   "metadata": {},
   "source": [
    "# Report - Continuous Control Project"
   ]
  },
  {
   "cell_type": "markdown",
   "metadata": {},
   "source": [
    "## Learning Algorithm\n"
   ]
  },
  {
   "cell_type": "markdown",
   "metadata": {},
   "source": [
    "A simplified version of a Proximal Policy Optimization (PPO) learning algorithm have been used in this project. \n",
    "PPO has been created by OpenAI in 2017 and represents a simplification of the Trust Region Policy Optimization (TRPO) algorithm. Compared to its predecesor, PPO achieves state of the art learning while being less complex and easier to implement and tune.\n",
    "\n",
    "Starting with the neural networks used for the policies, the agent makes use of the actor critic style multi-layer perceptron network with 2 layers of 400 and 300 units each and tanh activations. The actor network will output a Gaussian distribution over the 4 estimated actions while the critic will learn to predict the state value of any given state. The hidden layer sizes have been chosen according to this paper from McGill University: https://arxiv.org/pdf/1708.04133. The Xavier wight initialization is implemented in order to improve the learning capabilities of the policies. FInally, the actor-critic policy outputs the actions, log probabilities, entropy loss (used in the regularization term of the surrogate loss) and estimated state values (used in calculating the advantages)."
   ]
  },
  {
   "cell_type": "code",
   "execution_count": null,
   "metadata": {},
   "outputs": [],
   "source": [
    "import numpy as np\n",
    "\n",
    "import torch\n",
    "import torch.nn as nn\n",
    "import torch.nn.functional as F\n",
    "from torch.distributions import Normal\n",
    "\n",
    "# Xavier weight initialization for better learning\n",
    "def w_init(layer):\n",
    "    fan_in = layer.weight.data.size()[0]\n",
    "    lim = 1. / np.sqrt(fan_in)\n",
    "    return (-lim, lim)\n",
    "\n",
    "\n",
    "class ActorCriticPolicy(nn.Module):\n",
    "    def __init__(self, state_size, action_size, fc1_size, fc2_size, seed):\n",
    "        super().__init__()\n",
    "\n",
    "        self.actor = Actor(state_size, action_size, fc1_size, fc2_size, seed)\n",
    "        self.critic = Critic(state_size, fc1_size, fc2_size, seed)\n",
    "        self.std = torch.Tensor(nn.Parameter(torch.ones(1, action_size)))\n",
    "\n",
    "    def forward(self, states, actions=None):\n",
    "        estimated_actions = self.actor(states)\n",
    "        estimated_values = self.critic(states)\n",
    "\n",
    "        # Define a gaussian distribution over the actions given by actor net\n",
    "        gaussian = Normal(estimated_actions, self.std)\n",
    "        i_dim = 2 # when evaluating: shape (batch_size, 20)\n",
    "\n",
    "        if isinstance(actions, type(None)): \n",
    "            i_dim = 1 # when collecting trajectory: shape (20)\n",
    "            actions = gaussian.sample()\n",
    "\n",
    "        log_prob = torch.sum(gaussian.log_prob(actions), dim=i_dim, keepdim=True)\n",
    "        entropy_loss = torch.sum(gaussian.entropy(), dim=i_dim) / 4\n",
    "\n",
    "        return actions, log_prob, entropy_loss, estimated_values\n",
    "\n",
    "\n",
    "class Actor(nn.Module):\n",
    "    def __init__(self, state_size, action_size, fc1_size, fc2_size, seed):\n",
    "        super(Actor, self).__init__()\n",
    "        self.seed = torch.manual_seed(seed)\n",
    "        self.fc1 = nn.Linear(state_size, fc1_size)\n",
    "        self.fc2 = nn.Linear(fc1_size, fc2_size)\n",
    "        self.fc3 = nn.Linear(fc2_size, action_size)\n",
    "        self.reset_parameters()\n",
    "\n",
    "    def reset_parameters(self):\n",
    "        self.fc1.weight.data.uniform_(*w_init(self.fc1))\n",
    "        self.fc2.weight.data.uniform_(*w_init(self.fc2))\n",
    "        self.fc3.weight.data.uniform_(-3e-3, 3e-3)\n",
    "\n",
    "    def forward(self, state):\n",
    "        x = F.relu(self.fc1(state))\n",
    "        x = F.relu(self.fc2(x))\n",
    "        return torch.tanh(self.fc3(x))\n",
    "\n",
    "\n",
    "class Critic(nn.Module):\n",
    "    def __init__(self, state_size, fc1_size, fc2_size, seed):\n",
    "        super(Critic, self).__init__()\n",
    "        self.seed = torch.manual_seed(seed)\n",
    "        self.fc1 = nn.Linear(state_size, fc1_size)\n",
    "        self.fc2 = nn.Linear(fc1_size, fc2_size)\n",
    "        self.fc3 = nn.Linear(fc2_size, 1)\n",
    "        self.reset_parameters()\n",
    "\n",
    "    def reset_parameters(self):\n",
    "        self.fc1.weight.data.uniform_(*w_init(self.fc1))\n",
    "        self.fc2.weight.data.uniform_(*w_init(self.fc2))\n",
    "        self.fc3.weight.data.uniform_(-3e-3, 3e-3)\n",
    "\n",
    "    def forward(self, state):\n",
    "        x = F.relu(self.fc1(state))\n",
    "        x = F.relu(self.fc2(x))\n",
    "        return self.fc3(x)\n"
   ]
  },
  {
   "cell_type": "markdown",
   "metadata": {},
   "source": [
    "For storing the trajectories of each agent, the following data structure has been created:"
   ]
  },
  {
   "cell_type": "code",
   "execution_count": null,
   "metadata": {},
   "outputs": [],
   "source": [
    "import numpy as np\n",
    "\n",
    "class Trajectory(object):\n",
    "    def __init__(self):\n",
    "        self.traj = {}\n",
    "        self.traj['state'] = []\n",
    "        self.traj['reward'] = []\n",
    "        self.traj['prob'] = []\n",
    "        self.traj['action'] = []\n",
    "        self.traj['value'] = []\n",
    "        self.traj['done'] = []\n",
    "        self.score = 0.\n",
    "\n",
    "    def add(self, states, rewards, log_probs, actions, values, dones):\n",
    "        self.traj['state'].append(states)\n",
    "        self.traj['reward'].append(rewards)\n",
    "        self.traj['prob'].append(log_probs)\n",
    "        self.traj['action'].append(actions)\n",
    "        self.traj['value'].append(values)\n",
    "        self.traj['done'].append(dones)\n",
    "        self.score += np.mean(rewards)\n",
    "\n",
    "\n",
    "    def __len__(self):\n",
    "        return len(self.traj['state'])\n",
    "\n",
    "    def __getitem__(self, key):\n",
    "        return self.traj[key]\n"
   ]
  },
  {
   "cell_type": "markdown",
   "metadata": {},
   "source": [
    "Additionally, we implement a Batcher class in order to batch data from the rajectories in chunks that would allow the learning algorithm to make a good gradient update."
   ]
  },
  {
   "cell_type": "code",
   "execution_count": null,
   "metadata": {},
   "outputs": [],
   "source": [
    "class Batcher:\n",
    "    '''Helper class for enabling agent to learn in batches'''\n",
    "    def __init__(self, batch_size, data):\n",
    "        self.batch_size = batch_size\n",
    "        self.data = data\n",
    "        self.data_length = len(data[0])\n",
    "        self.reset()\n",
    "\n",
    "    def reset(self):\n",
    "        self.batch_start = 0\n",
    "        self.batch_end = self.batch_start + self.batch_size\n",
    "\n",
    "    def end(self):\n",
    "        return self.batch_start >= self.data_length\n",
    "\n",
    "    def next_batch(self):\n",
    "        batch = []\n",
    "        for d in self.data:\n",
    "            batch.append(d[self.batch_start: self.batch_end])\n",
    "        self.batch_start = self.batch_end\n",
    "        self.batch_end = min(self.batch_start + self.batch_size, self.data_length)\n",
    "        return batch\n",
    "\n",
    "    def shuffle(self):\n",
    "        indices = np.arange(self.data_length)\n",
    "        np.random.shuffle(indices)\n",
    "        self.data = [d[indices] for d in self.data]"
   ]
  },
  {
   "cell_type": "markdown",
   "metadata": {},
   "source": [
    "For the initialization of the PPO learning agent, we get inspired from the OpenAI Baselines PPO implementation: https://github.com/openai/baselines. Although we end up using difference hidden layer sizes for our policies, we keep batch size, learning rate, reward discount factor, gradient updates per trajectory, surrogate function's cliprange, value function loss coefficient and entropy loss coefficient the same. These parameters and updating every episode resulted in very fast learning.\n",
    "\n",
    "We choose the optimizer to be Adam, as it is a popular choice for policy gradient algorithms."
   ]
  },
  {
   "cell_type": "code",
   "execution_count": null,
   "metadata": {},
   "outputs": [],
   "source": [
    "class PPO:\n",
    "    '''PPO Learning Agent'''\n",
    "    def __init__(self, state_size, action_size, fc1_size=64, fc2_size=64, num_agents=1, seed=0, batch_size=128,\n",
    "                 lr=0.00025, tau=0.95, gamma=0.99, nminibatches=4, cliprange=0.2, vf_coef=0.5, ent_coef=0.01, learn_every=1):\n",
    "        self.state_size = state_size\n",
    "        self.action_size = action_size\n",
    "        self.fc1_size = fc1_size\n",
    "        self.fc2_size = fc2_size\n",
    "        self.num_agents = num_agents\n",
    "        self.seed = seed\n",
    "        self.batch_size = batch_size\n",
    "        self.lr = lr\n",
    "        self.tau = tau\n",
    "        self.gamma = gamma\n",
    "        self.nminibatches = nminibatches\n",
    "        self.cliprange = cliprange\n",
    "        self.vf_coef = vf_coef\n",
    "        self.ent_coef = ent_coef\n",
    "        self.learn_every = learn_every\n",
    "        \n",
    "        self.policy = ActorCriticPolicy(self.state_size, self.action_size, self.fc1_size, self.fc2_size, self.seed).to(device)\n",
    "        self.optimizer = optim.Adam(self.policy.parameters(), lr=self.lr)\n",
    "\n",
    "        self.t_step = 0\n"
   ]
  },
  {
   "cell_type": "markdown",
   "metadata": {},
   "source": [
    "The surrogate function loss is composed of the clipped ratio between the new policy and the one used to get the trajectory, mean squared error of the predicted state values by the critic and the entropy loss that encourages exploration in early stages of training."
   ]
  },
  {
   "cell_type": "code",
   "execution_count": 1,
   "metadata": {},
   "outputs": [],
   "source": [
    " def _surrogate(self, policy, old_probs, states, actions, rewards, advantages):\n",
    "        # Discount rewards\n",
    "        discount = self.gamma**np.arange(len(rewards))\n",
    "        dis_rewards = np.asarray(rewards)*discount[:, np.newaxis]\n",
    "        # Convert to future rewards\n",
    "        fut_rewards = dis_rewards[::-1].cumsum(axis=0)[::-1]\n",
    "        # Normalize rewards\n",
    "        mean = np.mean(fut_rewards, axis=1)\n",
    "        std = np.std(fut_rewards, axis=1) + 1.0e-10 # zero std would lead to NAN errors\n",
    "        norm_rewards = (fut_rewards-mean[:,np.newaxis]) / std[:,np.newaxis]\n",
    "        \n",
    "        # Convert data to tensors and move to device\n",
    "        actions = torch.tensor(actions, dtype=torch.float, device=device)\n",
    "        old_probs = torch.tensor(old_probs, dtype=torch.float, device=device)\n",
    "        norm_rewards = torch.tensor(norm_rewards, dtype=torch.float, device=device)\n",
    "\n",
    "        _, new_probs, entropy_loss, values = policy(states, actions)\n",
    "\n",
    "        # Find new/old policy ratio\n",
    "        ratio = torch.exp(new_probs - old_probs)\n",
    "\n",
    "        # Define surrogate loss\n",
    "        surr = ratio * advantages[:, :, np.newaxis]\n",
    "        surr_clip = torch.clamp(ratio, 1-self.cliprange, 1+self.cliprange) * advantages[:, :, np.newaxis]\n",
    "        vf_loss = torch.nn.MSELoss()\n",
    "        norm_rewards = norm_rewards[:, :, np.newaxis]\n",
    "        entropy_loss = entropy_loss[:, :, np.newaxis]\n",
    "        \n",
    "        loss = torch.min(surr, surr_clip) - self.vf_coef*vf_loss(values, norm_rewards) + self.ent_coef*entropy_loss\n",
    "      \n",
    "        return -loss.mean()"
   ]
  },
  {
   "cell_type": "markdown",
   "metadata": {},
   "source": [
    "Finally, the agent takes the trajectory data collected, calculates the advantages and performs stochastic gradient ascent updates."
   ]
  },
  {
   "cell_type": "code",
   "execution_count": null,
   "metadata": {},
   "outputs": [],
   "source": [
    "def _learn(self, trajectories):\n",
    "        states = torch.Tensor(trajectories['state'])\n",
    "        rewards = torch.Tensor(trajectories['reward'])\n",
    "        old_probs = torch.Tensor(trajectories['prob'])\n",
    "        actions = torch.Tensor(trajectories['action'])\n",
    "        old_values = torch.Tensor(trajectories['value'])\n",
    "        dones = torch.Tensor(trajectories['done'])\n",
    "\n",
    "        # Calculate the advantages\n",
    "        processed_rollout = [None] * (len(dones))\n",
    "        advantages = torch.Tensor(np.zeros((self.num_agents, 1)))\n",
    "        i_max = len(states)\n",
    "        for i in reversed(range(i_max)):\n",
    "            terminals_ = 1. - torch.Tensor(dones[i]).unsqueeze(1)\n",
    "            rwrds_ = torch.Tensor(rewards[i]).unsqueeze(1)\n",
    "            values_ = torch.Tensor(old_values[i])\n",
    "            next_value_ = old_values[min(i_max-1, i+1)]\n",
    "\n",
    "            td_error = rwrds_ + self.gamma * terminals_ * next_value_.detach()\n",
    "            td_error -= values_.detach()\n",
    "            advantages = advantages * self.tau * self.gamma * terminals_ + td_error\n",
    "            processed_rollout[i] = advantages\n",
    "\n",
    "        advantages = torch.stack(processed_rollout).squeeze(2)\n",
    "        advantages = (advantages - advantages.mean()) / advantages.std() # normalize\n",
    "\n",
    "        # Learn in batches\n",
    "        batcher = Batcher(self.batch_size, [np.arange(states.size(0))])\n",
    "        batcher.shuffle()\n",
    "        while not batcher.end():\n",
    "            batch_indices = batcher.next_batch()[0]\n",
    "            batch_indices = torch.Tensor(batch_indices).long()\n",
    "\n",
    "            loss = self._surrogate(self.policy,\n",
    "                                   old_probs[batch_indices],\n",
    "                                   states[batch_indices],\n",
    "                                   actions[batch_indices],\n",
    "                                   rewards[batch_indices],\n",
    "                                   advantages[batch_indices])\n",
    "            \n",
    "            # Take gradient step\n",
    "            self.optimizer.zero_grad()\n",
    "            loss.backward()\n",
    "            self.optimizer.step()"
   ]
  },
  {
   "attachments": {
    "training.jpg": {
     "image/jpeg": "[encoded data removed]"
    }
   },
   "cell_type": "markdown",
   "metadata": {},
   "source": [
    "## Training\n",
    "The algorithm managed to reach a score over 30 points in just 100 episodes. The following plot showcases the evolution of the reward in time.\n",
    "![training.jpg](attachment:training.jpg)\n"
   ]
  },
  {
   "cell_type": "code",
   "execution_count": null,
   "metadata": {},
   "outputs": [],
   "source": []
  },
  {
   "cell_type": "markdown",
   "metadata": {},
   "source": [
    "## Ideas of Future Work\n",
    "\n",
    "Given the good performance of the implementation, some additional time could be spent in optimizing the algorithm and bringing it closer to the production-ready version from OpenAI.\n",
    "\n",
    "The next steps of this project would be to implement the other policy gradient and actor-critic learning algorithms and compare their performances with PPO: DDPG, SAC, TD3, A3C etc.\n"
   ]
  }
 ],
 "metadata": {
  "kernelspec": {
   "display_name": "Python (rl)",
   "language": "python",
   "name": "rl"
  },
  "language_info": {
   "codemirror_mode": {
    "name": "ipython",
    "version": 3
   },
   "file_extension": ".py",
   "mimetype": "text/x-python",
   "name": "python",
   "nbconvert_exporter": "python",
   "pygments_lexer": "ipython3",
   "version": "3.6.9"
  }
 },
 "nbformat": 4,
 "nbformat_minor": 2
}
