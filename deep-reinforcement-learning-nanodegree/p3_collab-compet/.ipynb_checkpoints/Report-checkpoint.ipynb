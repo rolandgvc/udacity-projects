{
 "cells": [
  {
   "cell_type": "markdown",
   "metadata": {},
   "source": [
    "# Report: Collaboration and Competition Project"
   ]
  },
  {
   "cell_type": "markdown",
   "metadata": {},
   "source": [
    "## Learning Algorithm\n",
    "\n",
    "For the final project, an implementation of DDPG actor-critic learning algorithm has been used. Deep Deterministic Policy Gradient (DDPG) is an algorithm which concurrently learns a Q-function and a policy. It uses off-policy data and the Bellman equation to learn the Q-function, and uses the Q-function to learn the policy."
   ]
  },
  {
   "cell_type": "markdown",
   "metadata": {},
   "source": [
    "For the actor and critic networks, multi-layered perceptron networks have been used. The architecture has been inspired from OpenAI's implementation of DDPG in the Baselines library. Batch normalization layers have been used in order to help stabilize the learning. Xavier weight initialization is used for the linear layers of both networks."
   ]
  },
  {
   "cell_type": "code",
   "execution_count": null,
   "metadata": {},
   "outputs": [],
   "source": [
    "# Xavier init for linear layers\n",
    "def linear_init(layer):\n",
    "    classname = layer.__class__.__name__\n",
    "    if classname.find('Linear') != -1:\n",
    "        fan_in = layer.weight.data.size()[0]\n",
    "        lim = 1./np.sqrt(fan_in)\n",
    "\n",
    "        nn.init.uniform_(layer.weight.data, -lim, lim)\n",
    "\n",
    "\n",
    "class Actor(nn.Module):\n",
    "    def __init__(self, state_size, action_size, hidden_size, seed=0):\n",
    "        super(Actor, self).__init__()\n",
    "        torch.manual_seed(seed)\n",
    "\n",
    "        self.actor = nn.Sequential(\n",
    "            nn.BatchNorm1d(state_size),\n",
    "            nn.Linear(state_size, hidden_size),\n",
    "            nn.BatchNorm1d(hidden_size),\n",
    "            nn.ReLU(),\n",
    "            nn.Linear(hidden_size, hidden_size//2),\n",
    "            nn.BatchNorm1d(hidden_size//2),\n",
    "            nn.ReLU(),\n",
    "            nn.Linear(hidden_size//2, action_size),\n",
    "            nn.Tanh()\n",
    "        )\n",
    "        self.apply(linear_init)\n",
    "\n",
    "    def forward(self, state):\n",
    "        return self.actor(state)\n",
    "\n",
    "\n",
    "class Critic(nn.Module):\n",
    "    def __init__(self, state_size, hidden_size, seed=0):\n",
    "        super(Critic, self).__init__()\n",
    "        torch.manual_seed(seed)\n",
    "\n",
    "        self.first_layer = nn.Sequential(\n",
    "            nn.BatchNorm1d(state_size),\n",
    "            nn.Linear(state_size, hidden_size),\n",
    "            nn.BatchNorm1d(hidden_size),\n",
    "            nn.ReLU(),\n",
    "        )\n",
    "\n",
    "        self.critic = nn.Sequential(\n",
    "            nn.Linear(hidden_size+2, hidden_size),\n",
    "            nn.BatchNorm1d(hidden_size),\n",
    "            nn.ReLU(),\n",
    "            nn.Linear(hidden_size, 1)\n",
    "        )\n",
    "        self.apply(linear_init)\n",
    "\n",
    "    def forward(self, state, action):\n",
    "        p_state = self.first_layer(state)\n",
    "        a_state = torch.cat((p_state, action), dim=1)\n",
    "        return self.critic(a_state)"
   ]
  },
  {
   "cell_type": "markdown",
   "metadata": {},
   "source": [
    "The DDPG agent is defined below. Its hyperparameters are inspired from the stable baselines library. Because of the sparse rewards of self-play environments, we increase the batch size to 256, learning rate of the actor to .001 and hidden size of the networks to 516 for better learning."
   ]
  },
  {
   "cell_type": "code",
   "execution_count": null,
   "metadata": {},
   "outputs": [],
   "source": [
    "class Agent():\n",
    "    def __init__(self, state_size, action_size, num_agents=2, hidden_size=512, batch_size=256, update_epochs=3, eps=1.0,\n",
    "                 grad_clip=1.0, gamma=.99, lr=0.001, seed=0):\n",
    "        random.seed(seed)\n",
    "        self.batch_size = batch_size\n",
    "        self.update_epochs = update_epochs\n",
    "        self.eps = eps\n",
    "        self.num_agents = num_agents\n",
    "        self.grad_clip = grad_clip\n",
    "        self.gamma = gamma\n",
    "        self.lr = lr\n",
    "\n",
    "        self.actor_local = Actor(state_size, action_size, hidden_size, seed).to(device)\n",
    "        self.actor_target = Actor(state_size, action_size, hidden_size, seed).to(device)\n",
    "        self.actor_target.load_state_dict(self.actor_local.state_dict())\n",
    "\n",
    "        self.critic_local = Critic(state_size, hidden_size, seed).to(device)\n",
    "        self.critic_target = Critic(state_size, hidden_size, seed).to(device)\n",
    "        self.critic_target.load_state_dict(self.critic_local.state_dict())\n",
    "\n",
    "        self.actor_optimizer = optim.Adam(self.actor_local.parameters(), lr=self.lr)\n",
    "        self.critic_optimizer = optim.Adam(self.critic_local.parameters(), lr=self.lr, weight_decay=0)\n",
    "\n",
    "        self.replay_buffer = ReplayBuffer()\n",
    "\n",
    "        self.noise = OUNoise((self.num_agents, 2), seed)\n",
    "\n",
    "    def act(self, state, add_noise=True):\n",
    "        state = torch.tensor(state).to(device).float()\n",
    "        actions = np.zeros((self.num_agents, 2))\n",
    "        with torch.no_grad():\n",
    "            self.actor_local.eval()\n",
    "            for agent in range(self.num_agents):\n",
    "                actions[agent, :] = self.actor_local(state[agent:agent+1, :]).cpu().data.numpy()\n",
    "            self.actor_local.train()\n",
    "\n",
    "        if add_noise:\n",
    "            actions = actions + self.eps * self.noise.sample()\n",
    "\n",
    "        return np.clip(actions, -1, 1)\n",
    "\n",
    "    def reset(self):\n",
    "        self.noise.reset()\n",
    "\n",
    "    def step(self, state, action, reward, next_state, done):\n",
    "        for agent in range(self.num_agents):\n",
    "            self.replay_buffer.add(state[agent, :], action[agent, :], reward[agent], next_state[agent, :], done)\n",
    "\n",
    "        if len(self.replay_buffer.buffer) > self.batch_size:\n",
    "            for _ in range(self.update_epochs):\n",
    "                experiences = self.replay_buffer.sample(self.batch_size)\n",
    "                self.learn(experiences)\n",
    "\n",
    "    def soft_update(self, local_model, target_model, tau):\n",
    "        for target_param, local_param in zip(target_model.parameters(), local_model.parameters()):\n",
    "            target_param.data.copy_(tau * local_param.data + (1.0-tau) * target_param.data)\n",
    "\n",
    "    def learn(self, experiences):\n",
    "        states, actions, rewards, next_states, dones = experiences\n",
    "\n",
    "        # Train critic to predict the current state's Q_value\n",
    "        next_actions = self.actor_target(next_states)\n",
    "        next_Q_targets = self.critic_target(next_states, next_actions)\n",
    "        Q_targets = rewards + (self.gamma * next_Q_targets * (1-dones))\n",
    "\n",
    "        Q_expected = self.critic_local(states, actions)\n",
    "        critic_loss = F.mse_loss(Q_expected, Q_targets)\n",
    "\n",
    "        # Update critic\n",
    "        self.critic_optimizer.zero_grad()\n",
    "        critic_loss.backward()\n",
    "        if self.grad_clip > 0:\n",
    "            torch.nn.utils.clip_grad_norm_(self.critic_local.parameters(), self.grad_clip)\n",
    "        self.critic_optimizer.step()\n",
    "\n",
    "        # Train actor to predict the best action according to critic\n",
    "        actions_pred = self.actor_local(states)\n",
    "        actor_loss = -self.critic_local(states, actions_pred).mean()\n",
    "\n",
    "        # Minimize the loss\n",
    "        self.actor_optimizer.zero_grad()\n",
    "        actor_loss.backward()\n",
    "        self.actor_optimizer.step()\n",
    "\n",
    "        # soft-update the target networks\n",
    "        self.soft_update(self.critic_local, self.critic_target, 0.002)\n",
    "        self.soft_update(self.actor_local, self.actor_target, 0.002)\n",
    "\n",
    "        if self.eps > 0:\n",
    "            self.eps -= 0.000001\n",
    "            self.noise.reset()\n",
    "            if self.eps <= 0:\n",
    "                self.eps = 0"
   ]
  },
  {
   "cell_type": "markdown",
   "metadata": {},
   "source": [
    "The algorithm stores its trajectories in the replay buffer defined below. "
   ]
  },
  {
   "cell_type": "code",
   "execution_count": null,
   "metadata": {},
   "outputs": [],
   "source": [
    "class ReplayBuffer():\n",
    "    def __init__(self, buffer_size=100000, seed=0):\n",
    "        self.buffer = deque(maxlen=buffer_size)\n",
    "        random.seed(seed)\n",
    "\n",
    "    def add(self, state, action, reward, next_state, done):\n",
    "        self.buffer.append((state, action, reward, next_state, done))\n",
    "\n",
    "    def sample(self, batch_size):\n",
    "        experiences = random.sample(self.buffer, k=batch_size)\n",
    "        states      = torch.tensor([e[0] for e in experiences]).float().to(device)\n",
    "        actions     = torch.tensor([e[1] for e in experiences]).float().to(device)\n",
    "        rewards     = torch.tensor([e[2] for e in experiences]).float().unsqueeze(-1).to(device)\n",
    "        next_states = torch.tensor([e[3] for e in experiences]).float().to(device)\n",
    "        dones       = torch.tensor([e[4] for e in experiences]).float().to(device)\n",
    "        return (states, actions, rewards, next_states, dones)"
   ]
  },
  {
   "cell_type": "markdown",
   "metadata": {},
   "source": [
    "In the DDPG paper, the authors use Ornstein-Uhlenbeck Process to add noise to the action output (Uhlenbeck & Ornstein, 1930). The Ornstein-Uhlenbeck Process generates noise that is correlated with the previous noise, as to prevent the noise from canceling out or “freezing” the overall dynamics. Below is the implementation of the class."
   ]
  },
  {
   "cell_type": "code",
   "execution_count": 1,
   "metadata": {},
   "outputs": [],
   "source": [
    "class OUNoise:\n",
    "    def __init__(self, size, seed, mu=0., theta=0.15, sigma=0.01):\n",
    "        self.size = size\n",
    "        self.mu = mu * np.ones(size)\n",
    "        self.theta = theta\n",
    "        self.sigma = sigma\n",
    "        self.seed = random.seed(seed)\n",
    "        self.reset()\n",
    "\n",
    "    def reset(self):\n",
    "        self.state = copy.copy(self.mu)\n",
    "\n",
    "    def sample(self):\n",
    "        x = self.state\n",
    "        dx = self.theta * (self.mu - x) + self.sigma * np.random.standard_normal(self.size)\n",
    "        self.state = x + dx\n",
    "        return self.state"
   ]
  },
  {
   "cell_type": "markdown",
   "metadata": {},
   "source": [
    "## Training\n",
    "The algorithm managed to reach a score over 13 points in just 429 episodes. The following plot showcases the evolution of the reward (averaged over a 100 episode window) in time."
   ]
  },
  {
   "attachments": {
    "training.jpg": {
     "image/jpeg": "[encoded data removed]"
    }
   },
   "cell_type": "markdown",
   "metadata": {},
   "source": [
    "![training.jpg](attachment:training.jpg)"
   ]
  },
  {
   "cell_type": "markdown",
   "metadata": {},
   "source": [
    "## Future work\n",
    "\n",
    "DDPG has given good results, however MDDPG has been shown to be a better fit for multi-agent self play environments. The implementation of the algorithm can be a next step of this project."
   ]
  },
  {
   "cell_type": "markdown",
   "metadata": {},
   "source": [
    "## References\n",
    "\n",
    "Uhlenbeck, G. E. and Ornstein, L.S. (1930) On the Theory of the Brownian Motion. Physical Review, 36, 823. \n",
    "http://dx.doi.org/10.1103/PhysRev.36.823"
   ]
  }
 ],
 "metadata": {
  "kernelspec": {
   "display_name": "Python (rl)",
   "language": "python",
   "name": "rl"
  },
  "language_info": {
   "codemirror_mode": {
    "name": "ipython",
    "version": 3
   },
   "file_extension": ".py",
   "mimetype": "text/x-python",
   "name": "python",
   "nbconvert_exporter": "python",
   "pygments_lexer": "ipython3",
   "version": "3.6.9"
  }
 },
 "nbformat": 4,
 "nbformat_minor": 2
}
